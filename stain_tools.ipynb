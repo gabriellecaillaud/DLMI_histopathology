{
 "cells": [
  {
   "cell_type": "code",
   "execution_count": 1,
   "metadata": {},
   "outputs": [],
   "source": [
    "import h5py\n",
    "import torch\n",
    "import random\n",
    "import numpy as np\n",
    "import pandas as pd\n",
    "import torchmetrics\n",
    "import matplotlib.pyplot as plt\n",
    "import torchvision.transforms as transforms\n",
    "from tqdm.notebook import tqdm\n",
    "from torch.utils.data import Dataset, DataLoader\n",
    "\n",
    "import cv2\n",
    "import torch\n",
    "from torchvision.transforms import ToTensor\n",
    "from torch_staintools.normalizer import NormalizerBuilder\n",
    "from torch_staintools.augmentor import AugmentorBuilder\n",
    "from DLMI_histopathology.dataset import BaselineDataset\n",
    "import torch.nn as nn\n",
    "\n",
    "from StainNet.models import StainNet, ResnetGenerator"
   ]
  },
  {
   "cell_type": "code",
   "execution_count": 2,
   "metadata": {},
   "outputs": [
    {
     "name": "stdout",
     "output_type": "stream",
     "text": [
      "Working on cuda.\n"
     ]
    }
   ],
   "source": [
    "TRAIN_IMAGES_PATH = 'train.h5'\n",
    "VAL_IMAGES_PATH = 'val.h5'\n",
    "TEST_IMAGES_PATH = 'test.h5'\n",
    "SEED = 0\n",
    "torch.random.manual_seed(SEED)\n",
    "random.seed(SEED)\n",
    "device = torch.device('cuda' if torch.cuda.is_available() else 'cpu')\n",
    "print(f'Working on {device}.')"
   ]
  },
  {
   "cell_type": "markdown",
   "metadata": {},
   "source": [
    "# Step 1 : Search for the best image of the best center"
   ]
  },
  {
   "cell_type": "code",
   "execution_count": 3,
   "metadata": {},
   "outputs": [],
   "source": [
    "centers={}\n",
    "with h5py.File(TRAIN_IMAGES_PATH, 'r') as hdf:    \n",
    "    idx_train=list(hdf.keys())\n",
    "    for indexes in idx_train:\n",
    "        centers_nb=int(hdf.get(indexes).get(\"metadata\")[0])\n",
    "        if centers_nb not in centers:\n",
    "            centers[centers_nb]=1\n",
    "        else:\n",
    "            centers[centers_nb]+=1"
   ]
  },
  {
   "cell_type": "code",
   "execution_count": 4,
   "metadata": {},
   "outputs": [
    {
     "data": {
      "text/plain": [
       "{3: 38756, 4: 43488, 0: 17756}"
      ]
     },
     "execution_count": 4,
     "metadata": {},
     "output_type": "execute_result"
    }
   ],
   "source": [
    "centers"
   ]
  },
  {
   "cell_type": "markdown",
   "metadata": {},
   "source": [
    "Center 4 has the most images, we will adapt the staining of this center to the other center"
   ]
  },
  {
   "cell_type": "markdown",
   "metadata": {},
   "source": [
    "# Step 2 : Get the most relevant image"
   ]
  },
  {
   "cell_type": "code",
   "execution_count": 5,
   "metadata": {},
   "outputs": [],
   "source": [
    "class BaselineDatasetCenter(Dataset):\n",
    "    def __init__(self, dataset_path, preprocessing, mode,center):\n",
    "        super(BaselineDatasetCenter, self).__init__()\n",
    "        self.dataset_path = dataset_path\n",
    "        self.preprocessing = preprocessing\n",
    "        self.mode = mode\n",
    "        self.image_ids=[]\n",
    "        with h5py.File(self.dataset_path, 'r') as hdf:        \n",
    "            indx = np.array(list(hdf.keys()))\n",
    "            for indexes in indx:\n",
    "                centers_nb=int(hdf.get(indexes).get(\"metadata\")[0])\n",
    "                if centers_nb==center:\n",
    "                    self.image_ids.append(indexes)\n",
    "\n",
    "\n",
    "    def __len__(self):\n",
    "        return len(self.image_ids)\n",
    "\n",
    "    def __getitem__(self, idx):\n",
    "        img_id = self.image_ids[idx]\n",
    "        with h5py.File(self.dataset_path, 'r') as hdf:\n",
    "            img = torch.tensor(np.array(hdf.get(img_id).get('img')))\n",
    "            label = np.array(hdf.get(img_id).get('label')) if self.mode == 'train' else None\n",
    "        return self.preprocessing(img).float(), label"
   ]
  },
  {
   "cell_type": "code",
   "execution_count": 6,
   "metadata": {},
   "outputs": [],
   "source": [
    "preprocessing = transforms.Resize((98, 98))\n",
    "train_set_3=BaselineDatasetCenter(TRAIN_IMAGES_PATH,preprocessing,\"train\",3)\n",
    "train_set_4=BaselineDatasetCenter(TRAIN_IMAGES_PATH,preprocessing,\"train\",4)\n",
    "train_set_0=BaselineDatasetCenter(TRAIN_IMAGES_PATH,preprocessing,\"train\",0)"
   ]
  },
  {
   "cell_type": "code",
   "execution_count": 7,
   "metadata": {},
   "outputs": [],
   "source": [
    "train_loader_3=DataLoader(train_set_3,shuffle=False,batch_size=256)\n",
    "train_loader_4=DataLoader(train_set_4,shuffle=False,batch_size=256)\n",
    "train_loader_0=DataLoader(train_set_0,shuffle=False,batch_size=256)"
   ]
  },
  {
   "cell_type": "code",
   "execution_count": 8,
   "metadata": {},
   "outputs": [
    {
     "data": {
      "text/plain": [
       "(tensor([0.7997, 0.6722, 0.8196], device='cuda:0'),\n",
       " tensor([0.1200, 0.1492, 0.0916], device='cuda:0'))"
      ]
     },
     "execution_count": 8,
     "metadata": {},
     "output_type": "execute_result"
    }
   ],
   "source": [
    "def compute_stats(loader):\n",
    "    mean=torch.zeros(3).to(device)\n",
    "    std=torch.zeros(3).to(device)\n",
    "    for data,lab in loader:\n",
    "        mean+=torch.mean(data.to(device),dim=[0,2,3]).to(device)\n",
    "        std+=torch.std(data.to(device),dim=[0,2,3]).to(device)   \n",
    "    return mean/len(loader), std/len(loader)\n",
    "compute_stats(train_loader_4)"
   ]
  },
  {
   "cell_type": "markdown",
   "metadata": {},
   "source": [
    "We choose the image from the train set of the center 4 that is closest to the mean and std of this set"
   ]
  },
  {
   "cell_type": "code",
   "execution_count": 9,
   "metadata": {},
   "outputs": [],
   "source": [
    "mean_center_4=torch.tensor([0.7997, 0.6722, 0.8196]).to(device)\n",
    "std_center_4=torch.tensor([0.1200, 0.1492, 0.0916]).to(device)\n",
    "\n",
    "mean_center_4,std_center_4=compute_stats(train_loader_4)\n",
    "\n",
    "normalizer_macenko = NormalizerBuilder.build('macenko',concentration_method='ista').to(device)\n",
    "\n",
    "def find_best_image(dataset):\n",
    "    criterion=nn.MSELoss()\n",
    "    best_loss=float(\"inf\")\n",
    "    best_img=None\n",
    "    for img,_ in dataset:\n",
    "        img=img.to(device)\n",
    "        mean_img=torch.mean(img,dim=[1,2]).to(device)\n",
    "        std_img=torch.std(img,dim=[1,2]).to(device)\n",
    "        loss = criterion(mean_center_4,mean_img) + criterion(std_center_4,std_img)\n",
    "    \n",
    "        if loss.item() < best_loss:\n",
    "            best_img=img\n",
    "            best_loss=loss.item()\n",
    "        \n",
    "    return best_img\n",
    "best_rep=find_best_image(train_set_4)"
   ]
  },
  {
   "cell_type": "code",
   "execution_count": 10,
   "metadata": {},
   "outputs": [
    {
     "data": {
      "image/png": "[encoded data removed]",
      "text/plain": [
       "<Figure size 640x480 with 1 Axes>"
      ]
     },
     "metadata": {},
     "output_type": "display_data"
    }
   ],
   "source": [
    "plt.imshow(np.moveaxis(best_rep.cpu().numpy(),0,-1))\n",
    "plt.title(\"Best representative\")\n",
    "plt.tight_layout()"
   ]
  },
  {
   "cell_type": "markdown",
   "metadata": {},
   "source": [
    "Once we find it, we fit the stain normalizer"
   ]
  },
  {
   "cell_type": "code",
   "execution_count": 15,
   "metadata": {},
   "outputs": [],
   "source": [
    "normalizer_macenko.fit(best_rep.unsqueeze(0))"
   ]
  },
  {
   "cell_type": "markdown",
   "metadata": {},
   "source": [
    "# Step 3 : Incorporate the stain normalization in the transform pipeline"
   ]
  },
  {
   "cell_type": "code",
   "execution_count": 28,
   "metadata": {},
   "outputs": [],
   "source": [
    "mean = [0.7439, 0.5892, 0.7210] \n",
    "std = [0.1717, 0.2065, 0.1664]\n",
    "\n",
    "def normalize_stain(batch):\n",
    "    return normalizer_macenko.transform(batch.to(device).unsqueeze(0)).squeeze()\n",
    "\n",
    "transform = transforms.Compose([\n",
    "            transforms.Resize((98, 98)),\n",
    "            #transforms.Normalize(mean=mean, std=std),\n",
    "            normalize_stain\n",
    "        ])\n",
    "\n",
    "base_transform=transforms.Compose([\n",
    "            transforms.Resize((98, 98)),\n",
    "        ])"
   ]
  },
  {
   "cell_type": "code",
   "execution_count": 33,
   "metadata": {},
   "outputs": [
    {
     "name": "stderr",
     "output_type": "stream",
     "text": [
      "Using cache found in /raid/home/detectionfeuxdeforet/elyaalaoui_adi/.cache/torch/hub/facebookresearch_dinov2_main\n",
      "INFO:dinov2:using MLP layer as FFN\n"
     ]
    }
   ],
   "source": [
    "from DLMI_histopathology.dataset import BaselineDataset, PrecomputedDataset, AugmentedDataset, precompute\n",
    "\n",
    "feature_extractor = torch.hub.load('facebookresearch/dinov2', 'dinov2_vits14').to(device)\n",
    "feature_extractor.eval()\n",
    "\n",
    "train_dataset=BaselineDataset(TRAIN_IMAGES_PATH, base_transform, 'train')\n",
    "val_dataset=BaselineDataset(VAL_IMAGES_PATH, base_transform, 'train')\n",
    "\n",
    "train_dataset_stained=BaselineDataset(TRAIN_IMAGES_PATH, transform, 'train')\n",
    "\n",
    "\n",
    "val_dataset_stained=BaselineDataset(VAL_IMAGES_PATH, transform, 'train')\n",
    "train_set_3_stained=BaselineDatasetCenter(TRAIN_IMAGES_PATH,transform,\"train\",3)\n",
    "train_set_4_stained=BaselineDatasetCenter(TRAIN_IMAGES_PATH,transform,\"train\",4)\n",
    "train_set_0_stained=BaselineDatasetCenter(TRAIN_IMAGES_PATH,transform,\"train\",0)\n",
    "\n",
    "\n",
    "\n",
    "BATCH_SIZE=64\n",
    "\n",
    "train_dataloader = DataLoader(train_dataset, shuffle=False, batch_size=BATCH_SIZE)\n",
    "val_dataloader = DataLoader(val_dataset, shuffle=False, batch_size=BATCH_SIZE)\n",
    "\n",
    "feat_extr=nn.Sequential(model_Net,feature_extractor)\n",
    "\n",
    "#precomputed_train_dataset = PrecomputedDataset(*precompute(train_dataloader, feat_extr, device))\n",
    "#precomputed_val_dataset = PrecomputedDataset(*precompute(val_dataloader, feat_extr, device))\n"
   ]
  },
  {
   "cell_type": "markdown",
   "metadata": {},
   "source": [
    "## Visual comparison "
   ]
  },
  {
   "cell_type": "code",
   "execution_count": 35,
   "metadata": {},
   "outputs": [
    {
     "data": {
      "image/png": "[encoded data removed]",
      "text/plain": [
       "<Figure size 1500x1000 with 2 Axes>"
      ]
     },
     "metadata": {},
     "output_type": "display_data"
    }
   ],
   "source": [
    "id=15\n",
    "pre_stained=train_set_4[id][0]\n",
    "post_stained=train_set_4_stained[id][0]\n",
    "fig,ax=plt.subplots(1,2,figsize=(15,10))\n",
    "ax[0].imshow(np.moveaxis(pre_stained.cpu().numpy(),0,-1))\n",
    "ax[0].set_title(\"Before Staining\")\n",
    "ax[1].imshow(np.moveaxis(post_stained.cpu().numpy(),0,-1))\n",
    "ax[1].set_title(\"After Staining\")\n",
    "fig.tight_layout()"
   ]
  },
  {
   "cell_type": "markdown",
   "metadata": {},
   "source": [
    "# Step 4 : create a loader with the precomputed features from DinoV2 on the stained data"
   ]
  },
  {
   "cell_type": "markdown",
   "metadata": {},
   "source": [
    "To run if the features are locally saved"
   ]
  },
  {
   "cell_type": "code",
   "execution_count": 4,
   "metadata": {},
   "outputs": [],
   "source": [
    "from DLMI_histopathology.dataset import PrecomputedDataset\n",
    "feats_train,lab_train=torch.load(\"precomp_stained_train.pt\")[\"features\"],torch.load(\"precomp_stained_train.pt\")[\"labels\"].squeeze()\n",
    "feats_val,lab_val=torch.load(\"precomp_stained_val.pt\")[\"features\"],torch.load(\"precomp_stained_val.pt\")[\"labels\"].squeeze()\n",
    "precomputed_train_dataset = PrecomputedDataset(feats_train,lab_train)\n",
    "precomputed_val_dataset = PrecomputedDataset(feats_val,lab_val)"
   ]
  },
  {
   "cell_type": "code",
   "execution_count": 19,
   "metadata": {},
   "outputs": [],
   "source": [
    "precomp_loader=DataLoader(precomputed_train_dataset,shuffle=True,batch_size=256)\n",
    "precomp_val_loader=DataLoader(precomputed_val_dataset,shuffle=False,batch_size=256)"
   ]
  },
  {
   "cell_type": "code",
   "execution_count": 20,
   "metadata": {},
   "outputs": [],
   "source": [
    "def train_model(model, train_dataloader, val_dataloader, device, optimizer_name='Adam', optimizer_params={'lr': 0.001}, \n",
    "                 loss_name='BCELoss', metric_name='Accuracy', num_epochs=100, patience=10, save_path='best_model.pth'):\n",
    "    \"\"\"\n",
    "    Trains a PyTorch model with early stopping.\n",
    "    \n",
    "    Args:\n",
    "        model: PyTorch model to train.\n",
    "        train_dataloader: DataLoader for training data.\n",
    "        val_dataloader: DataLoader for validation data.\n",
    "        device: Device to run training on ('cuda' or 'cpu').\n",
    "        optimizer_name: Name of the optimizer (e.g., 'Adam').\n",
    "        optimizer_params: Dictionary of optimizer parameters.\n",
    "        loss_name: Name of the loss function (e.g., 'BCELoss').\n",
    "        metric_name: Name of the evaluation metric (e.g., 'Accuracy').\n",
    "        num_epochs: Maximum number of training epochs.\n",
    "        patience: Number of epochs to wait for improvement before stopping.\n",
    "        save_path: Path to save the best model.\n",
    "    \"\"\"\n",
    "    \n",
    "    optimizer = getattr(torch.optim, optimizer_name)(model.parameters(), **optimizer_params)\n",
    "    criterion = getattr(torch.nn, loss_name)()\n",
    "    metric = getattr(torchmetrics, metric_name)('binary')\n",
    "    \n",
    "    min_loss, best_epoch = float('inf'), 0\n",
    "    model.to(device)\n",
    "    \n",
    "    for epoch in range(num_epochs):\n",
    "        model.train()\n",
    "        train_metrics, train_losses = [], []\n",
    "        \n",
    "        for train_x, train_y in tqdm(train_dataloader, leave=False):\n",
    "            optimizer.zero_grad()\n",
    "            train_pred = model(train_x.to(device))\n",
    "            loss = criterion(train_pred, train_y.to(device))\n",
    "            loss.backward()\n",
    "            optimizer.step()\n",
    "            \n",
    "            train_losses.extend([loss.item()] * len(train_y))\n",
    "            train_metric = metric(train_pred.cpu(), train_y.int().cpu())\n",
    "            train_metrics.extend([train_metric.item()] * len(train_y))\n",
    "        \n",
    "        model.eval()\n",
    "        val_metrics, val_losses = [], []\n",
    "        \n",
    "        for val_x, val_y in tqdm(val_dataloader, leave=False):\n",
    "            with torch.no_grad():\n",
    "                val_pred = model(val_x.to(device))\n",
    "            loss = criterion(val_pred, val_y.to(device))\n",
    "            \n",
    "            val_losses.extend([loss.item()] * len(val_y))\n",
    "            val_metric = metric(val_pred.cpu(), val_y.int().cpu())\n",
    "            val_metrics.extend([val_metric.item()] * len(val_y))\n",
    "        \n",
    "        print(f'Epoch [{epoch+1}/{num_epochs}] Train Loss: {np.mean(train_losses):.4f} | Train Metric {np.mean(train_metrics):.4f} '\n",
    "              f'Val Loss: {np.mean(val_losses):.4f} Val Metric {np.mean(val_metrics):.4f}')\n",
    "        \n",
    "        if np.mean(val_losses) < min_loss:\n",
    "            mean_val_loss = np.mean(val_losses)\n",
    "            print(f'New best loss {min_loss:.4f} -> {mean_val_loss:.4f}')\n",
    "            min_loss = mean_val_loss\n",
    "            best_epoch = epoch\n",
    "            torch.save(model.state_dict(), save_path)\n",
    "        \n",
    "        if epoch - best_epoch == patience:\n",
    "            print(f\"Model has not improved in val set for {patience} epochs. Stopping early.\")\n",
    "            break\n"
   ]
  },
  {
   "cell_type": "code",
   "execution_count": 21,
   "metadata": {},
   "outputs": [
    {
     "data": {
      "text/plain": [
       "HistoClassifierHead(\n",
       "  (layer1): Linear(in_features=384, out_features=64, bias=True)\n",
       "  (relu): ReLU()\n",
       "  (layer2): Linear(in_features=64, out_features=64, bias=True)\n",
       "  (layer3): Linear(in_features=64, out_features=1, bias=True)\n",
       "  (layernorm1): LayerNorm((384,), eps=1e-05, elementwise_affine=True)\n",
       "  (layernorm2): LayerNorm((64,), eps=1e-05, elementwise_affine=True)\n",
       "  (layernorm3): LayerNorm((64,), eps=1e-05, elementwise_affine=True)\n",
       "  (sigmoid): Sigmoid()\n",
       "  (dropout): Dropout(p=0.2, inplace=False)\n",
       ")"
      ]
     },
     "execution_count": 21,
     "metadata": {},
     "output_type": "execute_result"
    }
   ],
   "source": [
    "from DLMI_histopathology.models import HistoClassifierHead, NewHistoClassifierHead\n",
    "class HistoClassifierHead(nn.Module):\n",
    "\n",
    "    def __init__(self, dim_input, hidden_dim, dropout):\n",
    "        super().__init__()\n",
    "        self.layer1 = nn.Linear(dim_input, hidden_dim)\n",
    "        self.relu = torch.nn.ReLU()\n",
    "        self.layer2 = nn.Linear(hidden_dim, hidden_dim)\n",
    "        self.layer3 = nn.Linear(hidden_dim, 1)\n",
    "        self.layernorm1 = nn.LayerNorm(dim_input)\n",
    "        self.layernorm2 = nn.LayerNorm(hidden_dim)\n",
    "        self.layernorm3 = nn.LayerNorm(hidden_dim)\n",
    "        self.sigmoid = nn.Sigmoid()\n",
    "        self.dropout = nn.Dropout(p=dropout)\n",
    "\n",
    "    def forward(self,x):\n",
    "        x = self.relu(self.layer1(x))\n",
    "        x = self.dropout(self.layernorm2(x))\n",
    "        x = self.relu(self.layer2(x))\n",
    "        x = self.layer3(x)\n",
    "        x = self.sigmoid(x) \n",
    "\n",
    "        return x \n",
    "    \n",
    "model_prob = HistoClassifierHead(dim_input=384, hidden_dim=64, dropout=0.2)\n",
    "model_prob.to(device)\n"
   ]
  },
  {
   "cell_type": "code",
   "execution_count": 22,
   "metadata": {},
   "outputs": [
    {
     "data": {
      "application/vnd.jupyter.widget-view+json": {
       "model_id": "3a89f8d0c61e49cfb03b5e216196c7fe",
       "version_major": 2,
       "version_minor": 0
      },
      "text/plain": [
       "  0%|          | 0/391 [00:00<?, ?it/s]"
      ]
     },
     "metadata": {},
     "output_type": "display_data"
    },
    {
     "data": {
      "application/vnd.jupyter.widget-view+json": {
       "model_id": "8ee679fd3cd24b81a87a916794b5e930",
       "version_major": 2,
       "version_minor": 0
      },
      "text/plain": [
       "  0%|          | 0/137 [00:00<?, ?it/s]"
      ]
     },
     "metadata": {},
     "output_type": "display_data"
    },
    {
     "name": "stdout",
     "output_type": "stream",
     "text": [
      "Epoch [1/100] Train Loss: 0.1999 | Train Metric 0.9255 Val Loss: 0.3752 Val Metric 0.8531\n",
      "New best loss inf -> 0.3752\n"
     ]
    },
    {
     "data": {
      "application/vnd.jupyter.widget-view+json": {
       "model_id": "86312ceb47df4c2abaa508f034427668",
       "version_major": 2,
       "version_minor": 0
      },
      "text/plain": [
       "  0%|          | 0/391 [00:00<?, ?it/s]"
      ]
     },
     "metadata": {},
     "output_type": "display_data"
    },
    {
     "data": {
      "application/vnd.jupyter.widget-view+json": {
       "model_id": "ac2aad058f35436e965d6b5b2f1e82b5",
       "version_major": 2,
       "version_minor": 0
      },
      "text/plain": [
       "  0%|          | 0/137 [00:00<?, ?it/s]"
      ]
     },
     "metadata": {},
     "output_type": "display_data"
    },
    {
     "name": "stdout",
     "output_type": "stream",
     "text": [
      "Epoch [2/100] Train Loss: 0.1361 | Train Metric 0.9487 Val Loss: 0.3043 Val Metric 0.8788\n",
      "New best loss 0.3752 -> 0.3043\n"
     ]
    },
    {
     "data": {
      "application/vnd.jupyter.widget-view+json": {
       "model_id": "b3ff4b47a3954a8e97ead03af7ada181",
       "version_major": 2,
       "version_minor": 0
      },
      "text/plain": [
       "  0%|          | 0/391 [00:00<?, ?it/s]"
      ]
     },
     "metadata": {},
     "output_type": "display_data"
    },
    {
     "data": {
      "application/vnd.jupyter.widget-view+json": {
       "model_id": "a42223f189de4d9580abd7b90a09fe4c",
       "version_major": 2,
       "version_minor": 0
      },
      "text/plain": [
       "  0%|          | 0/137 [00:00<?, ?it/s]"
      ]
     },
     "metadata": {},
     "output_type": "display_data"
    },
    {
     "name": "stdout",
     "output_type": "stream",
     "text": [
      "Epoch [3/100] Train Loss: 0.1241 | Train Metric 0.9535 Val Loss: 0.3715 Val Metric 0.8618\n"
     ]
    },
    {
     "data": {
      "application/vnd.jupyter.widget-view+json": {
       "model_id": "74eb5b7b76f6471f8b4d29a81275b766",
       "version_major": 2,
       "version_minor": 0
      },
      "text/plain": [
       "  0%|          | 0/391 [00:00<?, ?it/s]"
      ]
     },
     "metadata": {},
     "output_type": "display_data"
    },
    {
     "data": {
      "application/vnd.jupyter.widget-view+json": {
       "model_id": "d252e3b384e945fe91f325ed5f7f83d3",
       "version_major": 2,
       "version_minor": 0
      },
      "text/plain": [
       "  0%|          | 0/137 [00:00<?, ?it/s]"
      ]
     },
     "metadata": {},
     "output_type": "display_data"
    },
    {
     "name": "stdout",
     "output_type": "stream",
     "text": [
      "Epoch [4/100] Train Loss: 0.1151 | Train Metric 0.9563 Val Loss: 0.3201 Val Metric 0.8801\n"
     ]
    },
    {
     "data": {
      "application/vnd.jupyter.widget-view+json": {
       "model_id": "8088388d09ae4bdcb9f513c467f9a13f",
       "version_major": 2,
       "version_minor": 0
      },
      "text/plain": [
       "  0%|          | 0/391 [00:00<?, ?it/s]"
      ]
     },
     "metadata": {},
     "output_type": "display_data"
    },
    {
     "data": {
      "application/vnd.jupyter.widget-view+json": {
       "model_id": "97d23e15a36a4d0097a65fb6d1f0bd27",
       "version_major": 2,
       "version_minor": 0
      },
      "text/plain": [
       "  0%|          | 0/137 [00:00<?, ?it/s]"
      ]
     },
     "metadata": {},
     "output_type": "display_data"
    },
    {
     "name": "stdout",
     "output_type": "stream",
     "text": [
      "Epoch [5/100] Train Loss: 0.1107 | Train Metric 0.9585 Val Loss: 0.3354 Val Metric 0.8782\n"
     ]
    },
    {
     "data": {
      "application/vnd.jupyter.widget-view+json": {
       "model_id": "7d0130f5477d464fb9ef4db6d7544d50",
       "version_major": 2,
       "version_minor": 0
      },
      "text/plain": [
       "  0%|          | 0/391 [00:00<?, ?it/s]"
      ]
     },
     "metadata": {},
     "output_type": "display_data"
    },
    {
     "data": {
      "application/vnd.jupyter.widget-view+json": {
       "model_id": "55c1cd5a423944dfb5bc7398cc5d9e78",
       "version_major": 2,
       "version_minor": 0
      },
      "text/plain": [
       "  0%|          | 0/137 [00:00<?, ?it/s]"
      ]
     },
     "metadata": {},
     "output_type": "display_data"
    },
    {
     "name": "stdout",
     "output_type": "stream",
     "text": [
      "Epoch [6/100] Train Loss: 0.1063 | Train Metric 0.9600 Val Loss: 0.4901 Val Metric 0.8319\n"
     ]
    },
    {
     "data": {
      "application/vnd.jupyter.widget-view+json": {
       "model_id": "69c4e17afeeb4840a879980f187ab9b3",
       "version_major": 2,
       "version_minor": 0
      },
      "text/plain": [
       "  0%|          | 0/391 [00:00<?, ?it/s]"
      ]
     },
     "metadata": {},
     "output_type": "display_data"
    },
    {
     "data": {
      "application/vnd.jupyter.widget-view+json": {
       "model_id": "96c0c19cb9ff4204a5d25dff325d353d",
       "version_major": 2,
       "version_minor": 0
      },
      "text/plain": [
       "  0%|          | 0/137 [00:00<?, ?it/s]"
      ]
     },
     "metadata": {},
     "output_type": "display_data"
    },
    {
     "name": "stdout",
     "output_type": "stream",
     "text": [
      "Epoch [7/100] Train Loss: 0.1012 | Train Metric 0.9619 Val Loss: 0.3170 Val Metric 0.8774\n"
     ]
    },
    {
     "data": {
      "application/vnd.jupyter.widget-view+json": {
       "model_id": "6778c17430a34a7580025852eea508a7",
       "version_major": 2,
       "version_minor": 0
      },
      "text/plain": [
       "  0%|          | 0/391 [00:00<?, ?it/s]"
      ]
     },
     "metadata": {},
     "output_type": "display_data"
    },
    {
     "data": {
      "application/vnd.jupyter.widget-view+json": {
       "model_id": "48be5930b8a84ee9a3e85ea42dac2b48",
       "version_major": 2,
       "version_minor": 0
      },
      "text/plain": [
       "  0%|          | 0/137 [00:00<?, ?it/s]"
      ]
     },
     "metadata": {},
     "output_type": "display_data"
    },
    {
     "name": "stdout",
     "output_type": "stream",
     "text": [
      "Epoch [8/100] Train Loss: 0.0988 | Train Metric 0.9626 Val Loss: 0.3035 Val Metric 0.8858\n",
      "New best loss 0.3043 -> 0.3035\n"
     ]
    },
    {
     "data": {
      "application/vnd.jupyter.widget-view+json": {
       "model_id": "af15e0aaea5c48afa174dc3b9fb9198f",
       "version_major": 2,
       "version_minor": 0
      },
      "text/plain": [
       "  0%|          | 0/391 [00:00<?, ?it/s]"
      ]
     },
     "metadata": {},
     "output_type": "display_data"
    },
    {
     "data": {
      "application/vnd.jupyter.widget-view+json": {
       "model_id": "7e60613a13ab442fa3008f5f4d88c1c6",
       "version_major": 2,
       "version_minor": 0
      },
      "text/plain": [
       "  0%|          | 0/137 [00:00<?, ?it/s]"
      ]
     },
     "metadata": {},
     "output_type": "display_data"
    },
    {
     "name": "stdout",
     "output_type": "stream",
     "text": [
      "Epoch [9/100] Train Loss: 0.0972 | Train Metric 0.9634 Val Loss: 0.4194 Val Metric 0.8528\n"
     ]
    },
    {
     "data": {
      "application/vnd.jupyter.widget-view+json": {
       "model_id": "bca1da47ede242929082d0f3402f80fc",
       "version_major": 2,
       "version_minor": 0
      },
      "text/plain": [
       "  0%|          | 0/391 [00:00<?, ?it/s]"
      ]
     },
     "metadata": {},
     "output_type": "display_data"
    },
    {
     "data": {
      "application/vnd.jupyter.widget-view+json": {
       "model_id": "23ee3994851648ed88b96ef7fdac8c55",
       "version_major": 2,
       "version_minor": 0
      },
      "text/plain": [
       "  0%|          | 0/137 [00:00<?, ?it/s]"
      ]
     },
     "metadata": {},
     "output_type": "display_data"
    },
    {
     "name": "stdout",
     "output_type": "stream",
     "text": [
      "Epoch [10/100] Train Loss: 0.0930 | Train Metric 0.9652 Val Loss: 0.5214 Val Metric 0.8332\n"
     ]
    },
    {
     "data": {
      "application/vnd.jupyter.widget-view+json": {
       "model_id": "ae6657d5bc1d47218924d8358fe9edea",
       "version_major": 2,
       "version_minor": 0
      },
      "text/plain": [
       "  0%|          | 0/391 [00:00<?, ?it/s]"
      ]
     },
     "metadata": {},
     "output_type": "display_data"
    },
    {
     "data": {
      "application/vnd.jupyter.widget-view+json": {
       "model_id": "d914ed5659f44f7d9419d424291c4ca5",
       "version_major": 2,
       "version_minor": 0
      },
      "text/plain": [
       "  0%|          | 0/137 [00:00<?, ?it/s]"
      ]
     },
     "metadata": {},
     "output_type": "display_data"
    },
    {
     "name": "stdout",
     "output_type": "stream",
     "text": [
      "Epoch [11/100] Train Loss: 0.0913 | Train Metric 0.9657 Val Loss: 0.4477 Val Metric 0.8417\n"
     ]
    },
    {
     "data": {
      "application/vnd.jupyter.widget-view+json": {
       "model_id": "ffdd543ad67e4fcfb1b48adfd5dd4237",
       "version_major": 2,
       "version_minor": 0
      },
      "text/plain": [
       "  0%|          | 0/391 [00:00<?, ?it/s]"
      ]
     },
     "metadata": {},
     "output_type": "display_data"
    },
    {
     "data": {
      "application/vnd.jupyter.widget-view+json": {
       "model_id": "d73fcbde2c3c4e24a165d7adb4f147c7",
       "version_major": 2,
       "version_minor": 0
      },
      "text/plain": [
       "  0%|          | 0/137 [00:00<?, ?it/s]"
      ]
     },
     "metadata": {},
     "output_type": "display_data"
    },
    {
     "name": "stdout",
     "output_type": "stream",
     "text": [
      "Epoch [12/100] Train Loss: 0.0893 | Train Metric 0.9668 Val Loss: 0.4636 Val Metric 0.8466\n"
     ]
    },
    {
     "data": {
      "application/vnd.jupyter.widget-view+json": {
       "model_id": "9836f29ffa3d451ba770043e38c28b64",
       "version_major": 2,
       "version_minor": 0
      },
      "text/plain": [
       "  0%|          | 0/391 [00:00<?, ?it/s]"
      ]
     },
     "metadata": {},
     "output_type": "display_data"
    },
    {
     "data": {
      "application/vnd.jupyter.widget-view+json": {
       "model_id": "fd0eb3af6ec0465d9f9829d29c5acb6b",
       "version_major": 2,
       "version_minor": 0
      },
      "text/plain": [
       "  0%|          | 0/137 [00:00<?, ?it/s]"
      ]
     },
     "metadata": {},
     "output_type": "display_data"
    },
    {
     "name": "stdout",
     "output_type": "stream",
     "text": [
      "Epoch [13/100] Train Loss: 0.0873 | Train Metric 0.9671 Val Loss: 0.3561 Val Metric 0.8719\n"
     ]
    },
    {
     "data": {
      "application/vnd.jupyter.widget-view+json": {
       "model_id": "e77043b267794db69fd27835a1f6b24a",
       "version_major": 2,
       "version_minor": 0
      },
      "text/plain": [
       "  0%|          | 0/391 [00:00<?, ?it/s]"
      ]
     },
     "metadata": {},
     "output_type": "display_data"
    },
    {
     "data": {
      "application/vnd.jupyter.widget-view+json": {
       "model_id": "866cb525a4dc419da4bf31c54eb8b652",
       "version_major": 2,
       "version_minor": 0
      },
      "text/plain": [
       "  0%|          | 0/137 [00:00<?, ?it/s]"
      ]
     },
     "metadata": {},
     "output_type": "display_data"
    },
    {
     "name": "stdout",
     "output_type": "stream",
     "text": [
      "Epoch [14/100] Train Loss: 0.0863 | Train Metric 0.9671 Val Loss: 0.3673 Val Metric 0.8763\n"
     ]
    },
    {
     "data": {
      "application/vnd.jupyter.widget-view+json": {
       "model_id": "7b478ff5d1ef424abb57bb7eade30ab3",
       "version_major": 2,
       "version_minor": 0
      },
      "text/plain": [
       "  0%|          | 0/391 [00:00<?, ?it/s]"
      ]
     },
     "metadata": {},
     "output_type": "display_data"
    },
    {
     "data": {
      "application/vnd.jupyter.widget-view+json": {
       "model_id": "ab4f110e6800461992e13f0996a72152",
       "version_major": 2,
       "version_minor": 0
      },
      "text/plain": [
       "  0%|          | 0/137 [00:00<?, ?it/s]"
      ]
     },
     "metadata": {},
     "output_type": "display_data"
    },
    {
     "name": "stdout",
     "output_type": "stream",
     "text": [
      "Epoch [15/100] Train Loss: 0.0842 | Train Metric 0.9684 Val Loss: 0.3761 Val Metric 0.8718\n"
     ]
    },
    {
     "data": {
      "application/vnd.jupyter.widget-view+json": {
       "model_id": "4051e607086f464aa9487dc06ee361fc",
       "version_major": 2,
       "version_minor": 0
      },
      "text/plain": [
       "  0%|          | 0/391 [00:00<?, ?it/s]"
      ]
     },
     "metadata": {},
     "output_type": "display_data"
    },
    {
     "data": {
      "application/vnd.jupyter.widget-view+json": {
       "model_id": "49f4ec3940494e0182b1f4d3aee8cd8e",
       "version_major": 2,
       "version_minor": 0
      },
      "text/plain": [
       "  0%|          | 0/137 [00:00<?, ?it/s]"
      ]
     },
     "metadata": {},
     "output_type": "display_data"
    },
    {
     "name": "stdout",
     "output_type": "stream",
     "text": [
      "Epoch [16/100] Train Loss: 0.0828 | Train Metric 0.9686 Val Loss: 0.3765 Val Metric 0.8755\n"
     ]
    },
    {
     "data": {
      "application/vnd.jupyter.widget-view+json": {
       "model_id": "fef7baab839e4c19aec7d6cc77d3a1ce",
       "version_major": 2,
       "version_minor": 0
      },
      "text/plain": [
       "  0%|          | 0/391 [00:00<?, ?it/s]"
      ]
     },
     "metadata": {},
     "output_type": "display_data"
    },
    {
     "data": {
      "application/vnd.jupyter.widget-view+json": {
       "model_id": "6503944d88c94edeb9f0a4b5f2d80964",
       "version_major": 2,
       "version_minor": 0
      },
      "text/plain": [
       "  0%|          | 0/137 [00:00<?, ?it/s]"
      ]
     },
     "metadata": {},
     "output_type": "display_data"
    },
    {
     "name": "stdout",
     "output_type": "stream",
     "text": [
      "Epoch [17/100] Train Loss: 0.0807 | Train Metric 0.9702 Val Loss: 0.4435 Val Metric 0.8527\n"
     ]
    },
    {
     "data": {
      "application/vnd.jupyter.widget-view+json": {
       "model_id": "3d1c986af0e44a078a90e42cf56283de",
       "version_major": 2,
       "version_minor": 0
      },
      "text/plain": [
       "  0%|          | 0/391 [00:00<?, ?it/s]"
      ]
     },
     "metadata": {},
     "output_type": "display_data"
    },
    {
     "data": {
      "application/vnd.jupyter.widget-view+json": {
       "model_id": "7a4974b8ac4644caa6efc63abf57abe0",
       "version_major": 2,
       "version_minor": 0
      },
      "text/plain": [
       "  0%|          | 0/137 [00:00<?, ?it/s]"
      ]
     },
     "metadata": {},
     "output_type": "display_data"
    },
    {
     "name": "stdout",
     "output_type": "stream",
     "text": [
      "Epoch [18/100] Train Loss: 0.0799 | Train Metric 0.9701 Val Loss: 0.5013 Val Metric 0.8427\n"
     ]
    },
    {
     "data": {
      "application/vnd.jupyter.widget-view+json": {
       "model_id": "7fd18a85c7c64e85bc099d06cefaee0f",
       "version_major": 2,
       "version_minor": 0
      },
      "text/plain": [
       "  0%|          | 0/391 [00:00<?, ?it/s]"
      ]
     },
     "metadata": {},
     "output_type": "display_data"
    },
    {
     "data": {
      "application/vnd.jupyter.widget-view+json": {
       "model_id": "eef87cc434aa4056b87233b6363affbe",
       "version_major": 2,
       "version_minor": 0
      },
      "text/plain": [
       "  0%|          | 0/137 [00:00<?, ?it/s]"
      ]
     },
     "metadata": {},
     "output_type": "display_data"
    },
    {
     "name": "stdout",
     "output_type": "stream",
     "text": [
      "Epoch [19/100] Train Loss: 0.0793 | Train Metric 0.9704 Val Loss: 0.3969 Val Metric 0.8711\n"
     ]
    },
    {
     "data": {
      "application/vnd.jupyter.widget-view+json": {
       "model_id": "3d76fad2b9234fe5aa308bab375af7b0",
       "version_major": 2,
       "version_minor": 0
      },
      "text/plain": [
       "  0%|          | 0/391 [00:00<?, ?it/s]"
      ]
     },
     "metadata": {},
     "output_type": "display_data"
    },
    {
     "data": {
      "application/vnd.jupyter.widget-view+json": {
       "model_id": "080278ad14dd40da968e6237eb9e783e",
       "version_major": 2,
       "version_minor": 0
      },
      "text/plain": [
       "  0%|          | 0/137 [00:00<?, ?it/s]"
      ]
     },
     "metadata": {},
     "output_type": "display_data"
    },
    {
     "name": "stdout",
     "output_type": "stream",
     "text": [
      "Epoch [20/100] Train Loss: 0.0778 | Train Metric 0.9708 Val Loss: 0.4151 Val Metric 0.8656\n"
     ]
    },
    {
     "data": {
      "application/vnd.jupyter.widget-view+json": {
       "model_id": "5f8f40da90cc41ad9818beecc8e6a938",
       "version_major": 2,
       "version_minor": 0
      },
      "text/plain": [
       "  0%|          | 0/391 [00:00<?, ?it/s]"
      ]
     },
     "metadata": {},
     "output_type": "display_data"
    },
    {
     "data": {
      "application/vnd.jupyter.widget-view+json": {
       "model_id": "b87e7b808b074232a139f84b981dd6ce",
       "version_major": 2,
       "version_minor": 0
      },
      "text/plain": [
       "  0%|          | 0/137 [00:00<?, ?it/s]"
      ]
     },
     "metadata": {},
     "output_type": "display_data"
    },
    {
     "name": "stdout",
     "output_type": "stream",
     "text": [
      "Epoch [21/100] Train Loss: 0.0772 | Train Metric 0.9709 Val Loss: 0.4531 Val Metric 0.8602\n"
     ]
    },
    {
     "data": {
      "application/vnd.jupyter.widget-view+json": {
       "model_id": "cd416c8fadb445e1920380815bc1604b",
       "version_major": 2,
       "version_minor": 0
      },
      "text/plain": [
       "  0%|          | 0/391 [00:00<?, ?it/s]"
      ]
     },
     "metadata": {},
     "output_type": "display_data"
    },
    {
     "data": {
      "application/vnd.jupyter.widget-view+json": {
       "model_id": "311f2c2deb80414996567eb0f76ba561",
       "version_major": 2,
       "version_minor": 0
      },
      "text/plain": [
       "  0%|          | 0/137 [00:00<?, ?it/s]"
      ]
     },
     "metadata": {},
     "output_type": "display_data"
    },
    {
     "name": "stdout",
     "output_type": "stream",
     "text": [
      "Epoch [22/100] Train Loss: 0.0758 | Train Metric 0.9714 Val Loss: 0.3471 Val Metric 0.8836\n"
     ]
    },
    {
     "data": {
      "application/vnd.jupyter.widget-view+json": {
       "model_id": "b1a25416acc04a76acffba6593bc150c",
       "version_major": 2,
       "version_minor": 0
      },
      "text/plain": [
       "  0%|          | 0/391 [00:00<?, ?it/s]"
      ]
     },
     "metadata": {},
     "output_type": "display_data"
    },
    {
     "data": {
      "application/vnd.jupyter.widget-view+json": {
       "model_id": "637e52e02b89451595bd57b0c8861d71",
       "version_major": 2,
       "version_minor": 0
      },
      "text/plain": [
       "  0%|          | 0/137 [00:00<?, ?it/s]"
      ]
     },
     "metadata": {},
     "output_type": "display_data"
    },
    {
     "name": "stdout",
     "output_type": "stream",
     "text": [
      "Epoch [23/100] Train Loss: 0.0754 | Train Metric 0.9718 Val Loss: 0.3975 Val Metric 0.8690\n",
      "Model has not improved in val set for 15 epochs. Stopping early.\n"
     ]
    }
   ],
   "source": [
    "OPTIMIZER = 'AdamW'\n",
    "OPTIMIZER_PARAMS = {'lr': 5e-4, 'weight_decay' : 0.02}\n",
    "LOSS = 'BCELoss'\n",
    "METRIC = 'Accuracy'\n",
    "NUM_EPOCHS = 100\n",
    "PATIENCE = 15\n",
    "\n",
    "\n",
    "train_model(model_prob, precomp_loader, precomp_val_loader, device, optimizer_name=OPTIMIZER, optimizer_params=OPTIMIZER_PARAMS, \n",
    "                 loss_name=LOSS, metric_name=METRIC, num_epochs=NUM_EPOCHS, patience=PATIENCE, save_path='stain_net_small.pth')"
   ]
  },
  {
   "cell_type": "code",
   "execution_count": null,
   "metadata": {},
   "outputs": [],
   "source": []
  }
 ],
 "metadata": {
  "kernelspec": {
   "display_name": "Python 3 (ipykernel)",
   "language": "python",
   "name": "python3"
  },
  "language_info": {
   "codemirror_mode": {
    "name": "ipython",
    "version": 3
   },
   "file_extension": ".py",
   "mimetype": "text/x-python",
   "name": "python",
   "nbconvert_exporter": "python",
   "pygments_lexer": "ipython3",
   "version": "3.10.13"
  }
 },
 "nbformat": 4,
 "nbformat_minor": 2
}
